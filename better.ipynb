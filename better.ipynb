{
 "cells": [
  {
   "cell_type": "code",
   "execution_count": 1,
   "id": "initial_id",
   "metadata": {
    "collapsed": true,
    "ExecuteTime": {
     "end_time": "2024-07-14T06:28:24.550581Z",
     "start_time": "2024-07-14T06:28:23.280544Z"
    }
   },
   "outputs": [],
   "source": [
    "import numpy as np\n",
    "import pandas as pd\n",
    "from catboost import CatBoostClassifier\n",
    "from sklearn.model_selection import StratifiedKFold, KFold, GroupKFold\n",
    "from sklearn.metrics import f1_score\n",
    "from rdkit import Chem\n",
    "from rdkit.Chem import Descriptors\n",
    "from sklearn.feature_extraction.text import TfidfVectorizer\n",
    "import tqdm, sys, os, gc, re, argparse, warnings\n",
    "warnings.filterwarnings('ignore')\n",
    "\n"
   ]
  },
  {
   "cell_type": "code",
   "execution_count": 2,
   "outputs": [],
   "source": [
    "train = pd.read_excel('./dataset-new/traindata-new.xlsx')\n",
    "test = pd.read_excel('./dataset-new/testdata-new.xlsx')\n",
    "\n",
    "# test数据不包含 DC50 (nM) 和 Dmax (%)\n",
    "train = train.drop(['DC50 (nM)', 'Dmax (%)'], axis=1)\n",
    "\n",
    "# 定义了一个空列表drop_cols，用于存储在测试数据集中非空值小于10个的列名。\n",
    "drop_cols = []\n",
    "for f in test.columns:\n",
    "    if test[f].notnull().sum() < 10:\n",
    "        drop_cols.append(f)\n",
    "        \n",
    "# 使用drop方法从训练集和测试集中删除了这些列，以避免在后续的分析或建模中使用这些包含大量缺失值的列\n",
    "train = train.drop(drop_cols, axis=1)\n",
    "test = test.drop(drop_cols, axis=1)\n",
    "\n",
    "# 使用pd.concat将清洗后的训练集和测试集合并成一个名为data的DataFrame，便于进行统一的特征工程处理\n",
    "data = pd.concat([train, test], axis=0, ignore_index=True)\n",
    "cols = data.columns[2:]\n"
   ],
   "metadata": {
    "collapsed": false,
    "ExecuteTime": {
     "end_time": "2024-07-14T06:28:24.934699100Z",
     "start_time": "2024-07-14T06:28:24.551581Z"
    }
   },
   "id": "1f4a331bc255da1e"
  },
  {
   "cell_type": "code",
   "execution_count": 3,
   "outputs": [],
   "source": [
    "# 将SMILES转换为分子对象列表,并转换为SMILES字符串列表\n",
    "data['smiles_list'] = data['Smiles'].apply(lambda x:[Chem.MolToSmiles(mol, isomericSmiles=True) for mol in [Chem.MolFromSmiles(x)]])\n",
    "data['smiles_list'] = data['smiles_list'].map(lambda x: ' '.join(x))  \n",
    "\n",
    "# 使用TfidfVectorizer计算TF-IDF\n",
    "tfidf = TfidfVectorizer(max_df = 0.9, min_df = 1, sublinear_tf = True)\n",
    "res = tfidf.fit_transform(data['smiles_list'])\n",
    "\n",
    "# 将结果转为dataframe格式\n",
    "tfidf_df = pd.DataFrame(res.toarray())\n",
    "tfidf_df.columns = [f'smiles_tfidf_{i}' for i in range(tfidf_df.shape[1])]\n",
    "\n",
    "# 按列合并到data数据\n",
    "data = pd.concat([data, tfidf_df], axis=1)\n",
    "\n",
    "# 自然数编码\n",
    "def label_encode(series):\n",
    "    unique = list(series.unique())\n",
    "    return series.map(dict(zip(\n",
    "        unique, range(series.nunique())\n",
    "    )))\n",
    "\n",
    "for col in cols:\n",
    "    if data[col].dtype == 'object':\n",
    "        data[col]  = label_encode(data[col])\n",
    "        \n",
    "train = data[data.Label.notnull()].reset_index(drop=True)\n",
    "test = data[data.Label.isnull()].reset_index(drop=True)\n",
    "\n",
    "# 特征筛选\n",
    "features = [f for f in train.columns if f not in ['uuid','Label','smiles_list']]\n",
    "\n",
    "# 构建训练集和测试集\n",
    "x_train = train[features]\n",
    "x_test = test[features]\n",
    "\n",
    "# 训练集标签\n",
    "y_train = train['Label'].astype(int)\n"
   ],
   "metadata": {
    "collapsed": false,
    "ExecuteTime": {
     "end_time": "2024-07-14T06:28:25.259723800Z",
     "start_time": "2024-07-14T06:28:24.936699400Z"
    }
   },
   "id": "326c904193601918"
  },
  {
   "cell_type": "code",
   "execution_count": 4,
   "outputs": [
    {
     "name": "stdout",
     "output_type": "stream",
     "text": [
      "************************************ 1 2022************************************\n",
      "0:\ttest: 0.7979798\tbest: 0.7979798 (0)\ttotal: 135ms\tremaining: 45m 9s\n"
     ]
    },
    {
     "name": "stderr",
     "output_type": "stream",
     "text": [
      "Warning: Overfitting detector is active, thus evaluation metric is calculated on every iteration. 'metric_period' is ignored for evaluation metric.\n"
     ]
    },
    {
     "name": "stdout",
     "output_type": "stream",
     "text": [
      "100:\ttest: 0.9048822\tbest: 0.9149832 (82)\ttotal: 345ms\tremaining: 1m 7s\n",
      "200:\ttest: 0.9158249\tbest: 0.9200337 (173)\ttotal: 537ms\tremaining: 52.8s\n",
      "Stopped by overfitting detector  (100 iterations wait)\n",
      "\n",
      "bestTest = 0.92003367\n",
      "bestIteration = 173\n",
      "\n",
      "Shrink model to first 174 iterations.\n",
      "[0.9032258064516128]\n",
      "************************************ 2 2022************************************\n",
      "0:\ttest: 0.7527174\tbest: 0.7527174 (0)\ttotal: 2.84ms\tremaining: 56.9s\n"
     ]
    },
    {
     "name": "stderr",
     "output_type": "stream",
     "text": [
      "Warning: Overfitting detector is active, thus evaluation metric is calculated on every iteration. 'metric_period' is ignored for evaluation metric.\n"
     ]
    },
    {
     "name": "stdout",
     "output_type": "stream",
     "text": [
      "100:\ttest: 0.9211957\tbest: 0.9248188 (98)\ttotal: 207ms\tremaining: 40.8s\n",
      "200:\ttest: 0.9393116\tbest: 0.9411232 (197)\ttotal: 410ms\tremaining: 40.4s\n",
      "300:\ttest: 0.9465580\tbest: 0.9465580 (296)\ttotal: 620ms\tremaining: 40.6s\n",
      "Stopped by overfitting detector  (100 iterations wait)\n",
      "\n",
      "bestTest = 0.946557971\n",
      "bestIteration = 296\n",
      "\n",
      "Shrink model to first 297 iterations.\n",
      "[0.9032258064516128, 0.9166666666666666]\n",
      "************************************ 3 2022************************************\n",
      "0:\ttest: 0.7349676\tbest: 0.7349676 (0)\ttotal: 3.05ms\tremaining: 1m 1s\n"
     ]
    },
    {
     "name": "stderr",
     "output_type": "stream",
     "text": [
      "Warning: Overfitting detector is active, thus evaluation metric is calculated on every iteration. 'metric_period' is ignored for evaluation metric.\n"
     ]
    },
    {
     "name": "stdout",
     "output_type": "stream",
     "text": [
      "100:\ttest: 0.8977798\tbest: 0.9024052 (44)\ttotal: 200ms\tremaining: 39.5s\n",
      "Stopped by overfitting detector  (100 iterations wait)\n",
      "\n",
      "bestTest = 0.9024051804\n",
      "bestIteration = 44\n",
      "\n",
      "Shrink model to first 45 iterations.\n",
      "[0.9032258064516128, 0.9166666666666666, 0.8823529411764706]\n",
      "************************************ 4 2022************************************\n",
      "0:\ttest: 0.7991837\tbest: 0.7991837 (0)\ttotal: 4.13ms\tremaining: 1m 22s\n"
     ]
    },
    {
     "name": "stderr",
     "output_type": "stream",
     "text": [
      "Warning: Overfitting detector is active, thus evaluation metric is calculated on every iteration. 'metric_period' is ignored for evaluation metric.\n"
     ]
    },
    {
     "name": "stdout",
     "output_type": "stream",
     "text": [
      "100:\ttest: 0.9040816\tbest: 0.9155102 (21)\ttotal: 205ms\tremaining: 40.4s\n",
      "Stopped by overfitting detector  (100 iterations wait)\n",
      "\n",
      "bestTest = 0.9155102041\n",
      "bestIteration = 21\n",
      "\n",
      "Shrink model to first 22 iterations.\n",
      "[0.9032258064516128, 0.9166666666666666, 0.8823529411764706, 0.8333333333333333]\n",
      "************************************ 5 2022************************************\n",
      "0:\ttest: 0.8192935\tbest: 0.8192935 (0)\ttotal: 3.35ms\tremaining: 1m 6s\n"
     ]
    },
    {
     "name": "stderr",
     "output_type": "stream",
     "text": [
      "Warning: Overfitting detector is active, thus evaluation metric is calculated on every iteration. 'metric_period' is ignored for evaluation metric.\n"
     ]
    },
    {
     "name": "stdout",
     "output_type": "stream",
     "text": [
      "100:\ttest: 0.9492754\tbest: 0.9682971 (43)\ttotal: 207ms\tremaining: 40.8s\n",
      "Stopped by overfitting detector  (100 iterations wait)\n",
      "\n",
      "bestTest = 0.9682971014\n",
      "bestIteration = 43\n",
      "\n",
      "Shrink model to first 44 iterations.\n",
      "[0.9032258064516128, 0.9166666666666666, 0.8823529411764706, 0.8333333333333333, 0.9072164948453608]\n",
      "cat_score_list: [0.9032258064516128, 0.9166666666666666, 0.8823529411764706, 0.8333333333333333, 0.9072164948453608]\n",
      "cat_score_mean: 0.8885590484946888\n",
      "cat_score_std: 0.02980485757632575\n"
     ]
    }
   ],
   "source": [
    "def cv_model(clf, train_x, train_y, test_x, clf_name, seed=2022):\n",
    "    \n",
    "    kf = KFold(n_splits=5, shuffle=True, random_state=seed)\n",
    "\n",
    "    train = np.zeros(train_x.shape[0])\n",
    "    test = np.zeros(test_x.shape[0])\n",
    "\n",
    "    cv_scores = []\n",
    "    # 100， 1 2 3 4 5\n",
    "    # 1 2 3 4    5\n",
    "    # 1 2 3 5。  4\n",
    "    # 1\n",
    "    for i, (train_index, valid_index) in enumerate(kf.split(train_x, train_y)):\n",
    "        print('************************************ {} {}************************************'.format(str(i+1), str(seed)))\n",
    "        trn_x, trn_y, val_x, val_y = train_x.iloc[train_index], train_y[train_index], train_x.iloc[valid_index], train_y[valid_index]\n",
    "               \n",
    "        params = {'learning_rate': 0.1, 'depth': 6, 'l2_leaf_reg': 10, 'bootstrap_type':'Bernoulli','random_seed':seed,\n",
    "                  'od_type': 'Iter', 'od_wait': 100, 'allow_writing_files': False, 'task_type':'CPU'}\n",
    "\n",
    "        model = clf(iterations=20000, **params, eval_metric='AUC')\n",
    "        model.fit(trn_x, trn_y, eval_set=(val_x, val_y),\n",
    "                  metric_period=100,\n",
    "                  cat_features=[], \n",
    "                  use_best_model=True, \n",
    "                  verbose=1)\n",
    "\n",
    "        val_pred  = model.predict_proba(val_x)[:,1]\n",
    "        test_pred = model.predict_proba(test_x)[:,1]\n",
    "            \n",
    "        train[valid_index] = val_pred\n",
    "        test += test_pred / kf.n_splits\n",
    "        cv_scores.append(f1_score(val_y, np.where(val_pred>0.5, 1, 0)))\n",
    "        \n",
    "        print(cv_scores)\n",
    "       \n",
    "    print(\"%s_score_list:\" % clf_name, cv_scores)\n",
    "    print(\"%s_score_mean:\" % clf_name, np.mean(cv_scores))\n",
    "    print(\"%s_score_std:\" % clf_name, np.std(cv_scores))\n",
    "    return train, test\n",
    "    \n",
    "cat_train, cat_test = cv_model(CatBoostClassifier, x_train, y_train, x_test, \"cat\")\n",
    "\n",
    "pd.DataFrame(\n",
    "    {\n",
    "        'uuid': test['uuid'],\n",
    "        'Label': np.where(cat_test>0.5, 1, 0)\n",
    "    }\n",
    ").to_csv('submit.csv', index=None)\n"
   ],
   "metadata": {
    "collapsed": false,
    "ExecuteTime": {
     "end_time": "2024-07-14T06:28:28.128000800Z",
     "start_time": "2024-07-14T06:28:25.262716Z"
    }
   },
   "id": "1cd10002afa31747"
  }
 ],
 "metadata": {
  "kernelspec": {
   "display_name": "Python 3",
   "language": "python",
   "name": "python3"
  },
  "language_info": {
   "codemirror_mode": {
    "name": "ipython",
    "version": 2
   },
   "file_extension": ".py",
   "mimetype": "text/x-python",
   "name": "python",
   "nbconvert_exporter": "python",
   "pygments_lexer": "ipython2",
   "version": "2.7.6"
  }
 },
 "nbformat": 4,
 "nbformat_minor": 5
}
