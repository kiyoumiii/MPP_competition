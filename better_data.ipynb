{
 "cells": [
  {
   "cell_type": "code",
   "execution_count": null,
   "id": "initial_id",
   "metadata": {
    "collapsed": true
   },
   "outputs": [],
   "source": []
  },
  {
   "cell_type": "code",
   "execution_count": null,
   "outputs": [],
   "source": [
    "import numpy as np\n",
    "import pandas as pd\n",
    "from catboost import CatBoostClassifier\n",
    "from sklearn.model_selection import StratifiedKFold, KFold, GroupKFold\n",
    "from sklearn.metrics import f1_score\n",
    "from rdkit import Chem\n",
    "from rdkit.Chem import Descriptors\n",
    "from sklearn.feature_extraction.text import TfidfVectorizer\n",
    "import tqdm, sys, os, gc, re, argparse, warnings\n",
    "warnings.filterwarnings('ignore')"
   ],
   "metadata": {
    "collapsed": false
   },
   "id": "fda48bcf12460e9c"
  },
  {
   "cell_type": "code",
   "execution_count": null,
   "outputs": [],
   "source": [
    "\n",
    "# 加载数据\n",
    "train = pd.read_excel('./dataset-new/traindata-new.xlsx')\n",
    "test = pd.read_excel('./dataset-new/testdata-new.xlsx')\n",
    "\n",
    "# test数据不包含 DC50 (nM) 和 Dmax (%)\n",
    "train = train.drop(['DC50 (nM)', 'Dmax (%)'], axis=1)\n",
    "\n",
    "# 定义了一个空列表drop_cols，用于存储在测试数据集中非空值小于10个的列名。\n",
    "drop_cols = []\n",
    "for f in test.columns:\n",
    "    if test[f].notnull().sum() < 10:\n",
    "        drop_cols.append(f)\n",
    "        \n",
    "# 使用drop方法从训练集和测试集中删除了这些列，以避免在后续的分析或建模中使用这些包含大量缺失值的列\n",
    "train = train.drop(drop_cols, axis=1)\n",
    "test = test.drop(drop_cols, axis=1)\n",
    "\n",
    "# 使用pd.concat将清洗后的训练集和测试集合并成一个名为data的DataFrame，便于进行统一的特征工程处理\n",
    "data = pd.concat([train, test], axis=0, ignore_index=True)\n",
    "cols = data.columns[2:]"
   ],
   "metadata": {
    "collapsed": false
   },
   "id": "db74e7071f91525f"
  },
  {
   "cell_type": "code",
   "execution_count": null,
   "outputs": [],
   "source": [
    "\n",
    "# 将SMILES转换为分子对象列表,并转换为SMILES字符串列表\n",
    "data['smiles_list'] = data['Smiles'].apply(lambda x:[Chem.MolToSmiles(mol, isomericSmiles=True) for mol in [Chem.MolFromSmiles(x)]])\n",
    "data['smiles_list'] = data['smiles_list'].map(lambda x: ' '.join(x))  \n",
    "\n",
    "# 使用TfidfVectorizer计算TF-IDF\n",
    "tfidf = TfidfVectorizer(max_df=0.9, min_df=1, sublinear_tf=True)\n",
    "res = tfidf.fit_transform(data['smiles_list'])\n",
    "\n",
    "# 将结果转为dataframe格式\n",
    "tfidf_df = pd.DataFrame(res.toarray())\n",
    "tfidf_df.columns = [f'smiles_tfidf_{i}' for i in range(tfidf_df.shape[1])]\n",
    "\n",
    "# 按列合并到data数据\n",
    "data = pd.concat([data, tfidf_df], axis=1)\n",
    "\n",
    "# 自然数编码\n",
    "def label_encode(series):\n",
    "    unique = list(series.unique())\n",
    "    return series.map(dict(zip(\n",
    "        unique, range(series.nunique())\n",
    "    )))\n",
    "\n",
    "for col in cols:\n",
    "    if data[col].dtype == 'object':\n",
    "        data[col] = label_encode(data[col])\n",
    "        \n",
    "# 将合并后的数据重新分割为新的训练集和测试集\n",
    "train = data[data.Label.notnull()].reset_index(drop=True)\n",
    "test = data[data.Label.isnull()].reset_index(drop=True)\n",
    "\n",
    "# 特征筛选\n",
    "features = [f for f in train.columns if f not in ['uuid', 'Label', 'smiles_list']]\n",
    "\n",
    "# 构建训练集和测试集\n",
    "x_train = train[features]\n",
    "x_test = test[features]\n",
    "\n",
    "# 训练集标签\n",
    "y_train = train['Label'].astype(int)"
   ],
   "metadata": {
    "collapsed": false
   },
   "id": "3ee6626ad8695e9f"
  },
  {
   "cell_type": "code",
   "execution_count": null,
   "outputs": [],
   "source": [
    "\n",
    "# 模型训练和预测函数\n",
    "def cv_model(clf, train_x, train_y, test_x, clf_name, seed=2022):\n",
    "    kf = KFold(n_splits=5, shuffle=True, random_state=seed)\n",
    "\n",
    "    train = np.zeros(train_x.shape[0])\n",
    "    test = np.zeros(test_x.shape[0])\n",
    "\n",
    "    cv_scores = []\n",
    "    for i, (train_index, valid_index) in enumerate(kf.split(train_x, train_y)):\n",
    "        print('************************************ {} {}************************************'.format(str(i+1), str(seed)))\n",
    "        trn_x, trn_y, val_x, val_y = train_x.iloc[train_index], train_y[train_index], train_x.iloc[valid_index], train_y[valid_index]\n",
    "               \n",
    "        params = {'learning_rate': 0.1, 'depth': 6, 'l2_leaf_reg': 10, 'bootstrap_type': 'Bernoulli', 'random_seed': seed,\n",
    "                  'od_type': 'Iter', 'od_wait': 100, 'allow_writing_files': False, 'task_type': 'CPU'}\n",
    "\n",
    "        model = clf(iterations=20000, **params, eval_metric='AUC')\n",
    "        model.fit(trn_x, trn_y, eval_set=(val_x, val_y),\n",
    "                  metric_period=100,\n",
    "                  cat_features=[], \n",
    "                  use_best_model=True, \n",
    "                  verbose=1)\n",
    "\n",
    "        val_pred = model.predict_proba(val_x)[:, 1]\n",
    "        test_pred = model.predict_proba(test_x)[:, 1]\n",
    "            \n",
    "        train[valid_index] = val_pred\n",
    "        test += test_pred / kf.n_splits\n",
    "        cv_scores.append(f1_score(val_y, np.where(val_pred > 0.5, 1, 0)))\n",
    "        \n",
    "        print(cv_scores)\n",
    "       \n",
    "    print(\"%s_score_list:\" % clf_name, cv_scores)\n",
    "    print(\"%s_score_mean:\" % clf_name, np.mean(cv_scores))\n",
    "    print(\"%s_score_std:\" % clf_name, np.std(cv_scores))\n",
    "    return train, test\n",
    "    \n",
    "cat_train, cat_test = cv_model(CatBoostClassifier, x_train, y_train, x_test, \"cat\")\n",
    "\n",
    "# 保存预测结果\n",
    "pd.DataFrame({\n",
    "    'uuid': test['uuid'],\n",
    "    'Label': np.where(cat_test > 0.5, 1, 0)\n",
    "}).to_csv('submit.csv', index=None)"
   ],
   "metadata": {
    "collapsed": false
   },
   "id": "861e9912cf663a32"
  }
 ],
 "metadata": {
  "kernelspec": {
   "display_name": "Python 3",
   "language": "python",
   "name": "python3"
  },
  "language_info": {
   "codemirror_mode": {
    "name": "ipython",
    "version": 2
   },
   "file_extension": ".py",
   "mimetype": "text/x-python",
   "name": "python",
   "nbconvert_exporter": "python",
   "pygments_lexer": "ipython2",
   "version": "2.7.6"
  }
 },
 "nbformat": 4,
 "nbformat_minor": 5
}
