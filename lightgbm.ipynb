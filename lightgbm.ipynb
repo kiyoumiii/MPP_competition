{
 "cells": [
  {
   "cell_type": "markdown",
   "metadata": {},
   "source": [
    "本项目为[*零基础入门 AI 数据挖掘竞赛-速通学习手册(点击跳转)*](https://datawhaler.feishu.cn/wiki/Ue7swBbiJiBhsdk5SupcqfL7nLX) 配套的项目代码，速通的流程图如下：\n",
    "\n",
    "\n",
    "![速通流程图](https://ai-studio-static-online.cdn.bcebos.com/8abcd8a0670a442bbe469ad82aef31bcb8607cf67f0842a5adfc6a16f6b10227)\n",
    "\n",
    "在进行接下来的步骤时，请确保你已经报名 [*Datawhale AI 夏令营(点击跳转)*](https://linklearner.com/activity/6?sourceId=21) 的数据挖掘方向，且已经报名[*“分子性质预测挑战赛”(点击跳转)*](https://challenge.xfyun.cn/topic/info?type=molecular-properties&ch=dw24_3Gp2Ih)～\n",
    "\n",
    "![报名引导](https://ai-studio-static-online.cdn.bcebos.com/973d5a007bae4df9b5945b57c771077f8de83401d9b245f597039f7a401d99cf)\n"
   ]
  },
  {
   "cell_type": "markdown",
   "metadata": {},
   "source": [
    "## Step1：下载相关库（大概 10s）\n",
    "> 点击运行，稍等片刻（大概 10s）\n",
    "> \n",
    "> ![](https://ai-studio-static-online.cdn.bcebos.com/4a400f2202514fb88348e4514fddb3d200951fb876e842a0bdd4afda0c87a36a)\n"
   ]
  },
  {
   "cell_type": "code",
   "execution_count": 2,
   "metadata": {
    "execution": {
     "iopub.execute_input": "2024-07-13T15:51:23.110351Z",
     "iopub.status.busy": "2024-07-13T15:51:23.109842Z",
     "iopub.status.idle": "2024-07-13T15:51:27.735994Z",
     "shell.execute_reply": "2024-07-13T15:51:27.734923Z",
     "shell.execute_reply.started": "2024-07-13T15:51:23.110321Z"
    },
    "scrolled": true,
    "tags": []
   },
   "outputs": [
    {
     "name": "stdout",
     "output_type": "stream",
     "text": [
      "Looking in indexes: https://mirror.baidu.com/pypi/simple/, https://mirrors.aliyun.com/pypi/simple/\r\n",
      "Collecting lightgbm\r\n",
      "  Downloading https://mirrors.aliyun.com/pypi/packages/f2/3d/4f152cf694aec100ab63b4a5547f2dbfbea59ab39d9375c89bed9775e47d/lightgbm-4.4.0-py3-none-manylinux_2_28_x86_64.whl (3.6 MB)\r\n",
      "\u001b[2K     \u001b[90m━━━━━━━━━━━━━━━━━━━━━━━━━━━━━━━━━━━━━━━━\u001b[0m \u001b[32m3.6/3.6 MB\u001b[0m \u001b[31m12.3 MB/s\u001b[0m eta \u001b[36m0:00:00\u001b[0m00:01\u001b[0m00:01\u001b[0m\r\n",
      "\u001b[?25h\u001b[33mWARNING: Skipping page https://mirror.baidu.com/pypi/simple/openpyxl/ because the GET request got Content-Type: application/octet-stream. The only supported Content-Types are application/vnd.pypi.simple.v1+json, application/vnd.pypi.simple.v1+html, and text/html\u001b[0m\u001b[33m\r\n",
      "\u001b[0mCollecting openpyxl\r\n",
      "  Downloading https://mirrors.aliyun.com/pypi/packages/c0/da/977ded879c29cbd04de313843e76868e6e13408a94ed6b987245dc7c8506/openpyxl-3.1.5-py2.py3-none-any.whl (250 kB)\r\n",
      "\u001b[2K     \u001b[90m━━━━━━━━━━━━━━━━━━━━━━━━━━━━━━━━━━━━━━\u001b[0m \u001b[32m250.9/250.9 kB\u001b[0m \u001b[31m26.7 MB/s\u001b[0m eta \u001b[36m0:00:00\u001b[0m\r\n",
      "\u001b[?25hRequirement already satisfied: numpy>=1.17.0 in /opt/conda/envs/python35-paddle120-env/lib/python3.10/site-packages (from lightgbm) (1.26.4)\r\n",
      "Requirement already satisfied: scipy in /opt/conda/envs/python35-paddle120-env/lib/python3.10/site-packages (from lightgbm) (1.14.0)\r\n",
      "Collecting et-xmlfile (from openpyxl)\r\n",
      "  Downloading https://mirrors.aliyun.com/pypi/packages/96/c2/3dd434b0108730014f1b96fd286040dc3bcb70066346f7e01ec2ac95865f/et_xmlfile-1.1.0-py3-none-any.whl (4.7 kB)\r\n",
      "Installing collected packages: et-xmlfile, openpyxl, lightgbm\r\n",
      "Successfully installed et-xmlfile-1.1.0 lightgbm-4.4.0 openpyxl-3.1.5\r\n",
      "\u001b[33mWARNING: Skipping page https://mirror.baidu.com/pypi/simple/pip/ because the GET request got Content-Type: application/octet-stream. The only supported Content-Types are application/vnd.pypi.simple.v1+json, application/vnd.pypi.simple.v1+html, and text/html\u001b[0m\u001b[33m\r\n",
      "\u001b[0m"
     ]
    }
   ],
   "source": [
    "!pip install lightgbm openpyxl"
   ]
  },
  {
   "cell_type": "markdown",
   "metadata": {},
   "source": [
    "## Step2：训练模型并预测获得结果！\n",
    "> 点击运行即可！～\n",
    "> \n",
    "> ![](https://ai-studio-static-online.cdn.bcebos.com/7393ab67a35f466d80b156317f4af793d9514a77d5334157963a5d1ff527fdac)\n"
   ]
  },
  {
   "cell_type": "code",
   "execution_count": 3,
   "metadata": {
    "execution": {
     "iopub.execute_input": "2024-07-13T15:51:31.609489Z",
     "iopub.status.busy": "2024-07-13T15:51:31.608921Z",
     "iopub.status.idle": "2024-07-13T15:51:33.415694Z",
     "shell.execute_reply": "2024-07-13T15:51:33.414801Z",
     "shell.execute_reply.started": "2024-07-13T15:51:31.609454Z"
    },
    "scrolled": true,
    "tags": []
   },
   "outputs": [],
   "source": [
    "# 1. 导入需要用到的相关库\n",
    "# 导入 pandas 库，用于数据处理和分析\n",
    "import pandas as pd\n",
    "# 导入 numpy 库，用于科学计算和多维数组操作\n",
    "import numpy as np\n",
    "# 从 lightgbm 模块中导入 LGBMClassifier 类\n",
    "from lightgbm import LGBMClassifier\n",
    "\n",
    "\n",
    "# 2. 读取训练集和测试集\n",
    "# 使用 read_excel() 函数从文件中读取训练集数据，文件名为 'traindata-new.xlsx'\n",
    "train = pd.read_excel('./data/data280993/traindata-new.xlsx')\n",
    "# 使用 read_excel() 函数从文件中读取测试集数据，文件名为 'testdata-new.xlsx'\n",
    "test = pd.read_excel('./data/data280993/testdata-new.xlsx')\n",
    "\n",
    "# 3 特征工程\n",
    "# 3.1 test数据不包含 DC50 (nM) 和 Dmax (%)，将train数据中的DC50 (nM) 和 Dmax (%)删除\n",
    "train = train.drop(['DC50 (nM)', 'Dmax (%)'], axis=1)\n",
    "\n",
    "# 3.2 将object类型的数据进行目标编码处理\n",
    "for col in train.columns[2:]:\n",
    "    if train[col].dtype == object or test[col].dtype == object:\n",
    "        train[col] = train[col].isnull()\n",
    "        test[col] = test[col].isnull()\n",
    "\n",
    "# 4. 加载决策树模型进行训练\n",
    "model = LGBMClassifier(verbosity=-1)\n",
    "model.fit(train.iloc[:, 2:].values, train['Label'])\n",
    "pred = model.predict(test.iloc[:, 1:].values, )\n",
    "\n",
    "# 5. 保存结果文件到本地\n",
    "pd.DataFrame(\n",
    "    {\n",
    "        'uuid': test['uuid'],\n",
    "        'Label': pred\n",
    "    }\n",
    ").to_csv('submit.csv', index=None)"
   ]
  },
  {
   "cell_type": "markdown",
   "metadata": {},
   "source": [
    "## Step3：下载 [submit.csv](./submit.csv) 文件\n",
    "> 等左侧文件区域有了 submit.csv 文件后，点击右键，下载文件！\n",
    "> \n",
    "> ![](https://ai-studio-static-online.cdn.bcebos.com/88d56fd27f174cc993fe8c49c2642f435cb9789b1ed141fcacafcfeb3d2c865d)\n",
    "\n",
    "\n",
    "## 🎉恭喜你已经跑通了竞赛代码！即将获得自己的第一个分数！\n",
    "> 快快回到 [*速通学习手册(点击跳转)*](https://datawhaler.feishu.cn/wiki/Ue7swBbiJiBhsdk5SupcqfL7nLX#Pam0dn0zDof2RXx9WMOcrtmAnWb) 继续完成接下去的步骤吧！"
   ]
  }
 ],
 "metadata": {
  "kernelspec": {
   "display_name": "Python 3",
   "language": "python",
   "name": "py35-paddle1.2.0"
  },
  "language_info": {
   "codemirror_mode": {
    "name": "ipython",
    "version": 3
   },
   "file_extension": ".py",
   "mimetype": "text/x-python",
   "name": "python",
   "nbconvert_exporter": "python",
   "pygments_lexer": "ipython3",
   "version": "3.10.10"
  }
 },
 "nbformat": 4,
 "nbformat_minor": 4
}
